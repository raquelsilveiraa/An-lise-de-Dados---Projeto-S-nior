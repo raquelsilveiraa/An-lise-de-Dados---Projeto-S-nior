{
 "cells": [
  {
   "cell_type": "code",
   "execution_count": 8,
   "id": "53c1bb20",
   "metadata": {},
   "outputs": [
    {
     "ename": "SyntaxError",
     "evalue": "(unicode error) 'unicodeescape' codec can't decode bytes in position 2-3: truncated \\UXXXXXXXX escape (2496823116.py, line 2)",
     "output_type": "error",
     "traceback": [
      "\u001b[1;36m  Input \u001b[1;32mIn [8]\u001b[1;36m\u001b[0m\n\u001b[1;33m    tabela = pd.read_excel(\"C:\\Users\\Valquíria\\Downloads\\dadosdoprojetopython\\dados\\dados\\steps\")\u001b[0m\n\u001b[1;37m                                                                                                ^\u001b[0m\n\u001b[1;31mSyntaxError\u001b[0m\u001b[1;31m:\u001b[0m (unicode error) 'unicodeescape' codec can't decode bytes in position 2-3: truncated \\UXXXXXXXX escape\n"
     ]
    }
   ],
   "source": [
    "import panda as pd\n",
    "tabela = pd.read_excel(\"C:\\Users\\Valquíria\\Downloads\\dadosdoprojetopython\\dados\\dados\\steps\")\n",
    "display(tabela);"
   ]
  },
  {
   "cell_type": "code",
   "execution_count": null,
   "id": "d816a1b1",
   "metadata": {},
   "outputs": [],
   "source": []
  }
 ],
 "metadata": {
  "kernelspec": {
   "display_name": "Python 3 (ipykernel)",
   "language": "python",
   "name": "python3"
  },
  "language_info": {
   "codemirror_mode": {
    "name": "ipython",
    "version": 3
   },
   "file_extension": ".py",
   "mimetype": "text/x-python",
   "name": "python",
   "nbconvert_exporter": "python",
   "pygments_lexer": "ipython3",
   "version": "3.9.12"
  }
 },
 "nbformat": 4,
 "nbformat_minor": 5
}
